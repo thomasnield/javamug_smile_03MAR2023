{
  "nbformat": 4,
  "nbformat_minor": 0,
  "metadata": {
    "colab": {
      "provenance": []
    },
    "kernelspec": {
      "name": "java",
      "display_name": "Java"
    },
    "language_info": {
      "name": "java"
    },
    "gpuClass": "standard"
  },
  "cells": [
    {
      "cell_type": "markdown",
      "source": [
        "## How to Setup Java in Google Colab Notebook\n",
        "\n",
        "\n",
        "You can set up Java to work in a Jupyter notebook, including Google Colab. Read this short article here on setting up IJava in a notebook: \n",
        "\n",
        "https://medium.com/@gmsharpe/jupyter-java-and-google-colab-7a2f7fb08808\n",
        "\n",
        "This script below will initialize the Java environment. Be sure to click top-right menu, \"Connect to a hosted runtime,\" and select \"java.\" "
      ],
      "metadata": {
        "id": "i2fkiDyCmFNH"
      }
    },
    {
      "cell_type": "code",
      "execution_count": 1,
      "metadata": {
        "id": "HF7QBSfvlZF-",
        "colab": {
          "base_uri": "https://localhost:8080/"
        },
        "outputId": "ea04ef48-8687-475a-8127-91f48979084b"
      },
      "outputs": [
        {
          "output_type": "stream",
          "name": "stdout",
          "text": [
            "Update environment...\n",
            "Install Java...\n",
            "Install Jupyter java kernel...\n",
            "Install proxy for the java kernel\n",
            "e2732061ad19c1afa4a33a58cb8f18a9-b6cff2bf09b6832344e576ea1e4731f0fb3df10c/install_ipc_proxy_kernel.py\n",
            "e2732061ad19c1afa4a33a58cb8f18a9-b6cff2bf09b6832344e576ea1e4731f0fb3df10c/ipc_proxy_kernel.py\n",
            "Moving java kernel from /usr/share/jupyter/kernels/java...\n",
            "Wrote modified kernel.json for java_tcp in /usr/share/jupyter/kernels/java_tcp/kernel.json\n",
            "Installing the proxy kernel in place of java in /usr/share/jupyter/kernels/java\n",
            "Installed proxy kernelspec: {\"argv\": [\"/usr/bin/python3\", \"/usr/share/jupyter/kernels/java/ipc_proxy_kernel.py\", \"{connection_file}\", \"--kernel=java_tcp\"], \"env\": {}, \"display_name\": \"Java\", \"language\": \"java\", \"interrupt_mode\": \"message\", \"metadata\": {}}\n",
            "Proxy kernel installed. Go to 'Runtime > Change runtime type' and select 'java'\n"
          ]
        }
      ],
      "source": [
        "%%bash\n",
        "#!/usr/bin/env bash\n",
        "\n",
        "echo \"Update environment...\"\n",
        "apt update -q  &> /dev/null \n",
        "\n",
        "echo \"Install Java...\" \n",
        "apt-get install -q openjdk-11-jdk-headless &> /dev/null\n",
        "\n",
        "echo \"Install Jupyter java kernel...\"\n",
        "curl -L https://github.com/SpencerPark/IJava/releases/download/v1.3.0/ijava-1.3.0.zip \\\n",
        " -o ijava-kernel.zip &> /dev/null\n",
        "\n",
        "unzip -q ijava-kernel.zip -d ijava-kernel \\\n",
        " && cd ijava-kernel \\\n",
        " && python3 install.py --sys-prefix &> /dev/null\n",
        " \n",
        "echo \"Install proxy for the java kernel\"\n",
        "# NOTE: required after changes to Google Colab defaults in Dec. 2022\n",
        "# See https://stackoverflow.com/questions/74674688/google-colab-notebook-using-ijava-stuck-at-connecting-after-installation-ref/74821762#74821762\n",
        "\n",
        "wget -qO- https://gist.github.com/SpencerPark/e2732061ad19c1afa4a33a58cb8f18a9/archive/b6cff2bf09b6832344e576ea1e4731f0fb3df10c.tar.gz | tar xvz --strip-components=1\n",
        "python install_ipc_proxy_kernel.py --kernel=java --implementation=ipc_proxy_kernel.py"
      ]
    },
    {
      "cell_type": "markdown",
      "source": [
        "You should now have your Java environment set up! "
      ],
      "metadata": {
        "id": "ThDjBOxcmVCd"
      }
    },
    {
      "cell_type": "code",
      "source": [
        "System.out.println(\"Hello IJava\")"
      ],
      "metadata": {
        "colab": {
          "base_uri": "https://localhost:8080/"
        },
        "id": "ZURvwEtMmXCA",
        "outputId": "34d7bfd5-6864-4a57-d8a8-7f740699fe67"
      },
      "execution_count": 3,
      "outputs": [
        {
          "output_type": "stream",
          "name": "stdout",
          "text": [
            "Hello IJava\n"
          ]
        }
      ]
    },
    {
      "cell_type": "markdown",
      "source": [
        "Use these magic commands to install Java library dependencies. "
      ],
      "metadata": {
        "id": "VPl2PKX6mX5z"
      }
    },
    {
      "cell_type": "code",
      "source": [
        "%maven org.knowm.xchart:xchart:3.5.2\n",
        "%maven com.github.haifengl:smile-core:3.0.1\n",
        "%maven org.apache.commons:commons-io:1.3.2\n",
        "%maven org.apache.commons:commons-csv:1.10.0\n",
        "%maven org.apache.commons:commons-math3:3.6.1"
      ],
      "metadata": {
        "id": "5f9wX4L6mmSn"
      },
      "execution_count": 5,
      "outputs": []
    },
    {
      "cell_type": "code",
      "source": [
        "import org.apache.commons.math3.stat.regression.SimpleRegression;\n",
        "import org.apache.commons.io.FileUtils;\n",
        "import java.util.Arrays;\n",
        "import org.apache.commons.math3.stat.regression.OLSMultipleLinearRegression;\n",
        "import smile.io.*;\n",
        "import smile.classification.*;\n",
        "import smile.data.formula.Formula;\n",
        "import org.apache.commons.csv.CSVFormat;"
      ],
      "metadata": {
        "id": "G7WVRTNtMOEr"
      },
      "execution_count": 10,
      "outputs": []
    },
    {
      "cell_type": "markdown",
      "source": [
        "## Linear Regression"
      ],
      "metadata": {
        "id": "vQsWzv_nrl9S"
      }
    },
    {
      "cell_type": "markdown",
      "source": [
        "Let's bring in a small dataset and perform a simple linear regression. First download and load the dataset into a SMILE Dataframe."
      ],
      "metadata": {
        "id": "Yu-ZcaMsmlG0"
      }
    },
    {
      "cell_type": "code",
      "source": [
        "var url = \"https://raw.githubusercontent.com/thomasnield/machine-learning-demo-data/master/regression/single_independent_variable_linear_small.csv\";\n",
        "\n",
        "FileUtils.copyURLToFile(new URL(url), new File(\"linear_regression_data.csv\"));\n",
        "\n",
        "var df = Read.csv(\"linear_regression_data.csv\", CSVFormat.DEFAULT.withHeader());\n",
        "df;"
      ],
      "metadata": {
        "colab": {
          "base_uri": "https://localhost:8080/"
        },
        "id": "-yRV6gvtnbog",
        "outputId": "72ba06d8-0a2c-4804-8c25-cad6f6379ad7"
      },
      "execution_count": 12,
      "outputs": [
        {
          "output_type": "stream",
          "name": "stderr",
          "text": [
            "SLF4J: No SLF4J providers were found.\n",
            "SLF4J: Defaulting to no-operation (NOP) logger implementation\n",
            "SLF4J: See https://www.slf4j.org/codes.html#noProviders for further details.\n"
          ]
        },
        {
          "output_type": "execute_result",
          "data": {
            "text/plain": [
              "[x: int, y: int]\n",
              "+---+---+\n",
              "|  x|  y|\n",
              "+---+---+\n",
              "|  1|  5|\n",
              "|  2| 10|\n",
              "|  3| 10|\n",
              "|  4| 15|\n",
              "|  5| 14|\n",
              "|  6| 15|\n",
              "|  7| 19|\n",
              "|  8| 18|\n",
              "|  9| 25|\n",
              "| 10| 23|\n",
              "+---+---+\n"
            ]
          },
          "metadata": {},
          "execution_count": 12
        }
      ]
    },
    {
      "cell_type": "markdown",
      "source": [
        "Next let's use Apache Commons Math to do a simple linear regression. We can get both the slope and the intercept after fitting to the data. "
      ],
      "metadata": {
        "id": "4c6x382bm1CH"
      }
    },
    {
      "cell_type": "code",
      "source": [
        "SimpleRegression regression = new SimpleRegression(true); // pass true to include intercept\n",
        "\n",
        "var data = df.toArray(\"x\",\"y\");\n",
        "\n",
        "regression.addData(data);\n",
        "\n",
        "System.out.println(regression.getIntercept());\n",
        "// displays intercept of regression line\n",
        "\n",
        "System.out.println(regression.getSlope());\n",
        "// displays slope of regression line"
      ],
      "metadata": {
        "colab": {
          "base_uri": "https://localhost:8080/"
        },
        "id": "0PTp5VDKscjv",
        "outputId": "652ef581-3d30-4dd1-b6d7-123d983029c6"
      },
      "execution_count": 14,
      "outputs": [
        {
          "output_type": "stream",
          "name": "stdout",
          "text": [
            "4.7333333333333325\n",
            "1.9393939393939394\n"
          ]
        }
      ]
    },
    {
      "cell_type": "markdown",
      "source": [
        "> To learn how to chart in a Jupyter notebook with Java, check out XChart here: \n",
        "https://github.com/knowm/XChart"
      ],
      "metadata": {
        "id": "aTEJLc3RuvjX"
      }
    },
    {
      "cell_type": "markdown",
      "source": [
        "## Multiple Linear Regrssion"
      ],
      "metadata": {
        "id": "EGBCX3UUnKA3"
      }
    },
    {
      "cell_type": "markdown",
      "source": [
        "Let's next use a multiple linear regression to a dataset with three columns, where `x1` and `x2` are input variables and `y` is the output variable. "
      ],
      "metadata": {
        "id": "3QAWpQmVnLxU"
      }
    },
    {
      "cell_type": "code",
      "source": [
        "var url = \"https://raw.githubusercontent.com/thomasnield/machine-learning-demo-data/master/regression/multiple_independent_variable_linear.csv\";\n",
        "FileUtils.copyURLToFile(new URL(url), new File(\"multiple_independent_variable_linear.csv\"));\n",
        "\n",
        "var df = Read.csv(\"multiple_independent_variable_linear.csv\", CSVFormat.DEFAULT.withHeader());\n",
        "df;"
      ],
      "metadata": {
        "colab": {
          "base_uri": "https://localhost:8080/"
        },
        "id": "WIOu11W0uKNg",
        "outputId": "5f0ff7e6-2100-44d2-85ed-7aa84f0c4cc1"
      },
      "execution_count": 16,
      "outputs": [
        {
          "output_type": "execute_result",
          "data": {
            "text/plain": [
              "[x1: int, x2: int, y: int]\n",
              "+---+---+---+\n",
              "| x1| x2|  y|\n",
              "+---+---+---+\n",
              "|  0| 22| 88|\n",
              "|  1| 13| 62|\n",
              "|  1| 15| 67|\n",
              "|  1| 14| 62|\n",
              "|  2| 18| 77|\n",
              "|  2| 13| 65|\n",
              "|  2| 11| 56|\n",
              "|  3|  2| 34|\n",
              "|  3| 13| 66|\n",
              "|  4| 16| 75|\n",
              "+---+---+---+\n",
              "59 more rows...\n"
            ]
          },
          "metadata": {},
          "execution_count": 16
        }
      ]
    },
    {
      "cell_type": "markdown",
      "source": [
        "Let's use the `OLSMultipleLinearRegression` to fit `x1` and `x2` as inputs to a function that outputs `y`. We need to solve for $ \\beta_0 $, $ \\beta_1 $, and $ \\beta_2 $ which are the intercept and slopes respectively. \n",
        "\n",
        "$$\n",
        "y = \\beta_0 + \\beta_1 x_1 + \\beta_2 x_2\n",
        "$$\n",
        "\n",
        "We can then use Apache Commons math to solve for the coefficients  $ \\beta_0 $, $ \\beta_1 $, and $ \\beta_2 $. "
      ],
      "metadata": {
        "id": "PZ2ZdjWAnT_4"
      }
    },
    {
      "cell_type": "code",
      "source": [
        "var inputData = df.toArray(\"x1\",\"x2\");\n",
        "var outputData = df.intVector(\"y\").toDoubleArray();\n",
        "\n",
        "// pass data to multiple linear regression\n",
        "var multiRegression = new OLSMultipleLinearRegression();\n",
        "\n",
        "multiRegression.newSampleData(outputData, inputData);\n",
        "\n",
        "// estimate the coefficients \n",
        "var betas = multiRegression.estimateRegressionParameters();\n",
        "\n",
        "// print out coefficients for b0, b1, and b2\n",
        "System.out.println(Arrays.toString(betas));"
      ],
      "metadata": {
        "colab": {
          "base_uri": "https://localhost:8080/"
        },
        "id": "KoYZYhBhvED5",
        "outputId": "10d2a9b7-1b23-4c2d-dc92-95afad24f4bc"
      },
      "execution_count": 18,
      "outputs": [
        {
          "output_type": "stream",
          "name": "stdout",
          "text": [
            "[20.109432820036012, 2.0067264725128053, 3.0020379766466903]\n"
          ]
        }
      ]
    },
    {
      "cell_type": "markdown",
      "source": [
        "This results in the following fitted function: \n",
        "\n",
        "$$\n",
        "y = 20.1094 + 2.0067x_1 + 3.002x_2\n",
        "$$"
      ],
      "metadata": {
        "id": "dmiP0c9Xnk_N"
      }
    },
    {
      "cell_type": "markdown",
      "source": [
        "## Logistic Regression"
      ],
      "metadata": {
        "id": "h4OkSM8Erp_i"
      }
    },
    {
      "cell_type": "code",
      "source": [
        "var url = \"https://raw.githubusercontent.com/thomasnield/machine-learning-demo-data/master/classification/simple_logistic_regression.csv\";\n",
        "FileUtils.copyURLToFile(new URL(url), new File(\"data.csv\"));\n",
        "\n",
        "var df = Read.csv(\"data.csv\", CSVFormat.DEFAULT.withHeader());\n",
        "df;"
      ],
      "metadata": {
        "colab": {
          "base_uri": "https://localhost:8080/"
        },
        "id": "F_MmMPmwnQPQ",
        "outputId": "d12d972a-3d5b-4a8c-e9a7-02349916f251"
      },
      "execution_count": 20,
      "outputs": [
        {
          "output_type": "execute_result",
          "data": {
            "text/plain": [
              "[x: double, y: int]\n",
              "+---+---+\n",
              "|  x|  y|\n",
              "+---+---+\n",
              "|  1|  0|\n",
              "|1.5|  0|\n",
              "|2.1|  0|\n",
              "|2.4|  0|\n",
              "|2.5|  1|\n",
              "|3.1|  0|\n",
              "|4.2|  0|\n",
              "|4.4|  1|\n",
              "|4.6|  1|\n",
              "|4.9|  0|\n",
              "+---+---+\n",
              "11 more rows...\n"
            ]
          },
          "metadata": {},
          "execution_count": 20
        }
      ]
    },
    {
      "cell_type": "code",
      "source": [
        "// extract out input and output columns \n",
        "var x = df.toArray(\"x\");\n",
        "var y = df.intVector(\"y\").array();\n",
        "\n",
        "var model = LogisticRegression.fit(x, y);\n",
        "\n",
        "// What's the prediction of showing symptoms after 11.2 hours of exposure? \n",
        "double[][] test_input = {{11.2}};\n",
        "\n",
        "model.predict(test_input)[0];"
      ],
      "metadata": {
        "colab": {
          "base_uri": "https://localhost:8080/"
        },
        "id": "PFOaUtAurqFC",
        "outputId": "5cb77ed9-8cbc-4b59-f3b6-fe9d042a79c4"
      },
      "execution_count": 22,
      "outputs": [
        {
          "output_type": "execute_result",
          "data": {
            "text/plain": [
              "1"
            ]
          },
          "metadata": {},
          "execution_count": 22
        }
      ]
    },
    {
      "cell_type": "markdown",
      "source": [
        "## Multiple Logistic Regression"
      ],
      "metadata": {
        "id": "sjOwnSwCoYmP"
      }
    },
    {
      "cell_type": "markdown",
      "source": [
        "Let's bring in a dataset of 1,335 background colors and whether that background looks better with a light (0) or dark (1) font. "
      ],
      "metadata": {
        "id": "TG75mRYFofHk"
      }
    },
    {
      "cell_type": "code",
      "source": [
        "var url = \"https://raw.githubusercontent.com/thomasnield/machine-learning-demo-data/master/classification/light_dark_font_training_set.csv\";\n",
        "FileUtils.copyURLToFile(new URL(url), new File(\"light_dark_font_training_set.csv\"));\n",
        "\n",
        "var df = Read.csv(\"light_dark_font_training_set.csv\", CSVFormat.DEFAULT.withHeader());\n",
        "df"
      ],
      "metadata": {
        "colab": {
          "base_uri": "https://localhost:8080/"
        },
        "id": "Wk_pOpcFlTd-",
        "outputId": "e8ec6993-83d2-43c1-8b42-c1c92c8e9acf"
      },
      "execution_count": 24,
      "outputs": [
        {
          "output_type": "execute_result",
          "data": {
            "text/plain": [
              "[RED: int, GREEN: int, BLUE: int, LIGHT_OR_DARK_FONT_IND: int]\n",
              "+---+-----+----+----------------------+\n",
              "|RED|GREEN|BLUE|LIGHT_OR_DARK_FONT_IND|\n",
              "+---+-----+----+----------------------+\n",
              "|  0|    0|   0|                     0|\n",
              "|  0|    0| 128|                     0|\n",
              "|  0|    0| 139|                     0|\n",
              "|  0|    0| 205|                     0|\n",
              "|  0|    0| 238|                     0|\n",
              "|  0|    0| 255|                     0|\n",
              "|  0|  100|   0|                     0|\n",
              "|  0|  104| 139|                     0|\n",
              "|  0|  128|   0|                     0|\n",
              "|  0|  128| 128|                     0|\n",
              "+---+-----+----+----------------------+\n",
              "1335 more rows...\n"
            ]
          },
          "metadata": {},
          "execution_count": 24
        }
      ]
    },
    {
      "cell_type": "markdown",
      "source": [
        "We can use a logistic regression in the same manner. Let's even test some colors of our own using their R,G,B values. "
      ],
      "metadata": {
        "id": "5YIDa_rzoqez"
      }
    },
    {
      "cell_type": "code",
      "source": [
        "// extract out input and output columns \n",
        "var x = df.toArray(\"RED\", \"GREEN\", \"BLUE\");\n",
        "var y = df.intVector(\"LIGHT_OR_DARK_FONT_IND\").array();\n",
        "\n",
        "var model = LogisticRegression.fit(x, y);\n",
        "\n",
        "// Test a given RGB background color for LIGHT (1) or DARK (0)\n",
        "double[][] testInput = {{255,255,255}};\n",
        "\n",
        "model.predict(testInput)[0];"
      ],
      "metadata": {
        "colab": {
          "base_uri": "https://localhost:8080/"
        },
        "id": "HAbx9oMbj4OB",
        "outputId": "2741f34a-206e-4505-d318-01f83759bc78"
      },
      "execution_count": null,
      "outputs": [
        {
          "output_type": "execute_result",
          "data": {
            "text/plain": [
              "1"
            ]
          },
          "metadata": {},
          "execution_count": 290
        }
      ]
    },
    {
      "cell_type": "markdown",
      "source": [
        "## Decision Trees"
      ],
      "metadata": {
        "id": "zgHxUC87pENr"
      }
    },
    {
      "cell_type": "markdown",
      "source": [],
      "metadata": {
        "id": "nDxxxxYPpGrE"
      }
    },
    {
      "cell_type": "code",
      "source": [
        "var url = \"https://raw.githubusercontent.com/thomasnield/machine-learning-demo-data/master/classification/good_weather_classification.csv\";\n",
        "FileUtils.copyURLToFile(new URL(url), new File(\"good_weather_classification.csv\"));\n",
        "\n",
        "var df = Read.csv(\"good_weather_classification.csv\", CSVFormat.DEFAULT.withHeader());\n",
        "df"
      ],
      "metadata": {
        "colab": {
          "base_uri": "https://localhost:8080/"
        },
        "id": "9MXCJaKNpEVO",
        "outputId": "2fcac34f-94fd-4eee-9e30-6f22e7a20d48"
      },
      "execution_count": null,
      "outputs": [
        {
          "output_type": "execute_result",
          "data": {
            "text/plain": [
              "[RAIN: int, LIGHTNING: int, CLOUDY: int, TEMPERATURE: int, GOOD_WEATHER_IND: int]\n",
              "+----+---------+------+-----------+----------------+\n",
              "|RAIN|LIGHTNING|CLOUDY|TEMPERATURE|GOOD_WEATHER_IND|\n",
              "+----+---------+------+-----------+----------------+\n",
              "|   0|        1|     1|         74|               0|\n",
              "|   0|        0|     0|         69|               1|\n",
              "|   1|        0|     1|         58|               0|\n",
              "|   0|        0|     0|         71|               1|\n",
              "|   0|        0|     0|         73|               1|\n",
              "|   0|        1|     1|         80|               0|\n",
              "|   0|        1|     1|         74|               0|\n",
              "|   0|        0|     0|         73|               1|\n",
              "|   1|        0|     1|         79|               0|\n",
              "|   0|        0|     1|         72|               1|\n",
              "+----+---------+------+-----------+----------------+\n",
              "40 more rows...\n"
            ]
          },
          "metadata": {},
          "execution_count": 333
        }
      ]
    },
    {
      "cell_type": "code",
      "source": [
        "import smile.classification.DecisionTree;\n",
        "import smile.data.formula.Formula;\n",
        "import smile.data.Tuple;\n",
        "\n",
        "var formula = Formula.lhs(\"GOOD_WEATHER_IND\");\n",
        "\n",
        "var decisionTree = DecisionTree.fit(formula, df);\n",
        "\n",
        "\n",
        "\n",
        "Double[] testInput = {0.0, 0.0, 0.0, 72.0};\n",
        "\n",
        "\n",
        "decisionTree.predict(Tuple.of(testInput));"
      ],
      "metadata": {
        "colab": {
          "base_uri": "https://localhost:8080/",
          "height": 232
        },
        "id": "CyqOjotdxzVv",
        "outputId": "76053f46-03eb-4785-e169-207bb1b400dc"
      },
      "execution_count": null,
      "outputs": [
        {
          "output_type": "error",
          "ename": "CompilationException",
          "evalue": "ignored",
          "traceback": [
            "\u001b[1m\u001b[30m|   \u001b[1m\u001b[30mdecisionTree.predict(\u001b[0m\u001b[1m\u001b[30m\u001b[41mTuple.of\u001b[0m\u001b[1m\u001b[30m(testInput));\u001b[0m",
            "\u001b[1m\u001b[31mno suitable method found for of(java.lang.Double[])\u001b[0m",
            "\u001b[1m\u001b[31m    method smile.data.Tuple.of(java.lang.Object[],smile.data.type.StructType) is not applicable\u001b[0m",
            "\u001b[1m\u001b[31m      (actual and formal argument lists differ in length)\u001b[0m",
            "\u001b[1m\u001b[31m    method smile.data.Tuple.of(double[],smile.data.type.StructType) is not applicable\u001b[0m",
            "\u001b[1m\u001b[31m      (actual and formal argument lists differ in length)\u001b[0m",
            "\u001b[1m\u001b[31m    method smile.data.Tuple.of(int[],smile.data.type.StructType) is not applicable\u001b[0m",
            "\u001b[1m\u001b[31m      (actual and formal argument lists differ in length)\u001b[0m",
            "\u001b[1m\u001b[31m    method smile.data.Tuple.of(java.sql.ResultSet,smile.data.type.StructType) is not applicable\u001b[0m",
            "\u001b[1m\u001b[31m      (actual and formal argument lists differ in length)\u001b[0m",
            ""
          ]
        }
      ]
    }
  ]
}